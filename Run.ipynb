{
  "nbformat": 4,
  "nbformat_minor": 0,
  "metadata": {
    "colab": {
      "provenance": [],
      "authorship_tag": "ABX9TyNsu49Sd8PeZEETzETwYMz1",
      "include_colab_link": true
    },
    "kernelspec": {
      "name": "python3",
      "display_name": "Python 3"
    },
    "language_info": {
      "name": "python"
    }
  },
  "cells": [
    {
      "cell_type": "markdown",
      "metadata": {
        "id": "view-in-github",
        "colab_type": "text"
      },
      "source": [
        "<a href=\"https://colab.research.google.com/github/xjdeng/hyperliquid_testnet_trading/blob/main/Run.ipynb\" target=\"_parent\"><img src=\"https://colab.research.google.com/assets/colab-badge.svg\" alt=\"Open In Colab\"/></a>"
      ]
    },
    {
      "cell_type": "markdown",
      "source": [
        "# Install"
      ],
      "metadata": {
        "id": "xH_hkTNtLgUX"
      }
    },
    {
      "cell_type": "code",
      "execution_count": null,
      "metadata": {
        "id": "0fyMWtGnDOgI"
      },
      "outputs": [],
      "source": [
        "!git clone https://github.com/xjdeng/hyperliquid_testnet_trading\n",
        "%cd hyperliquid_testnet_trading\n",
        "!pip install -r requirements.txt"
      ]
    },
    {
      "cell_type": "markdown",
      "source": [
        "# Parameters"
      ],
      "metadata": {
        "id": "m6-NalAKLjqI"
      }
    },
    {
      "cell_type": "code",
      "source": [
        "# @markdown Only consider the top n most liquid securities here:\n",
        "top_n_most_liquid = 50 # @param {\"type\":\"integer\",\"placeholder\":\"50\"}\n",
        "# @markdown Number of bars on hourly chart when calculating the regression line + SD:\n",
        "n_hours_lookback= 24 # @param {\"type\":\"integer\",\"placeholder\":\"24\"}\n",
        "# @markdown Number of equal-weighted securities in final portfolio:\n",
        "n_picks = 10 # @param {\"type\":\"integer\",\"placeholder\":\"10\"}\n",
        "# @markdown How many hours to wait before running the model and trading again:\n",
        "hours_holding_period = 1 # @param {\"type\":\"integer\",\"placeholder\":\"1\"}\n",
        "# @markdown How many times to trade again:\n",
        "number_holding_periods = 999999999999 # @param {\"type\":\"integer\",\"placeholder\":\"99999999999\"}\n",
        "# @markdown Which gemini model to use (please update when 1.5 is deprecated)\n",
        "gemini_model = \"gemini-1.5-flash-latest\" # @param {\"type\":\"string\"}\n",
        "\n",
        "from google.colab import userdata\n",
        "from IPython.display import YouTubeVideo, display\n",
        "import myagent\n",
        "\n",
        "try:\n",
        "  gemini_key = userdata.get(\"GOOGLE_API_KEY\")\n",
        "except userdata.SecretNotFoundError as e:\n",
        "  print(\"Gemini Key Not Found in Colab Key Vault! Please watch this video to learn how to set it up:\")\n",
        "  display(YouTubeVideo('S1elvCs1gyI'))  # Replace with your video ID\n",
        "  # You can add further instructions or alternative actions here\n",
        "  raise(e)\n",
        "\n",
        "try:\n",
        "  hypernet_private_key = userdata.get(\"hypernet_private_key\")\n",
        "except userdata.SecretNotFoundError as e:\n",
        "  print(\"Please enter your Hyperliquid Private Key in the 'hypernet_private_key' field in the Google Colab key vault\")\n",
        "  raise(e)"
      ],
      "metadata": {
        "cellView": "form",
        "id": "8JU7O3GADfUM"
      },
      "execution_count": null,
      "outputs": []
    },
    {
      "cell_type": "markdown",
      "source": [
        "# Run"
      ],
      "metadata": {
        "id": "W1esQx86Lmmn"
      }
    },
    {
      "cell_type": "code",
      "source": [
        "ag = myagent.MyAgent(hypernet_private_key, gemini_key, gemini_model)\n",
        "ag.run(None, top_n_most_liquid, n_hours_lookback, n_picks, hours_holding_period, number_holding_periods)"
      ],
      "metadata": {
        "id": "GRfYrCdtGeot"
      },
      "execution_count": null,
      "outputs": []
    },
    {
      "cell_type": "code",
      "source": [],
      "metadata": {
        "id": "S1ArnyWZWcp6"
      },
      "execution_count": null,
      "outputs": []
    }
  ]
}